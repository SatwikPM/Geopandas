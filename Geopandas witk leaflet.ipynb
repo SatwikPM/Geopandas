{
 "cells": [
  {
   "cell_type": "code",
   "execution_count": null,
   "metadata": {},
   "outputs": [],
   "source": [
    "\n",
    "import folium\n",
    "\n",
    "# Create a Map instance\n",
    "m = folium.Map(location=[60.25, 24.8], tiles='Stamen Toner',\n",
    "                   zoom_start=10, control_scale=True)"
   ]
  },
  {
   "cell_type": "code",
   "execution_count": null,
   "metadata": {},
   "outputs": [],
   "source": [
    " import geopandas as gpd"
   ]
  },
  {
   "cell_type": "code",
   "execution_count": null,
   "metadata": {},
   "outputs": [],
   "source": [
    "outfp = \"/Users/satwi/geopandas/base_map.html\""
   ]
  },
  {
   "cell_type": "code",
   "execution_count": null,
   "metadata": {},
   "outputs": [],
   "source": [
    " # Let's change the basemap style to 'Stamen Toner'\n",
    "m = folium.Map(location=[40.730610, -73.935242], tiles='Stamen Toner',\n",
    "                zoom_start=12, control_scale=True, prefer_canvas=True)\n",
    "\n",
    " # Filepath to the output\n",
    "outfp = \"/Users/satwi/geopandas/base_map.html\"\n",
    "\n",
    "# Save the map\n",
    "m.save(outfp)"
   ]
  },
  {
   "cell_type": "code",
   "execution_count": null,
   "metadata": {},
   "outputs": [],
   "source": [
    "# Filepaths\n",
    "fp = \"/Users/satwi/geopandas/data/Vaestotietoruudukko_2015.shp\"\n",
    "addr_fp = \"/Users/satwi/geopandas/data/addresses.shp\"\n",
    "\n",
    "# Read Data\n",
    "data = gpd.read_file(fp)\n",
    "ad = gpd.read_file(addr_fp)\n",
    "\n",
    "# Re-project to WGS84\n",
    "data['geometry'] = data['geometry'].to_crs(epsg=4326)\n",
    "ad['geometry'] = ad['geometry'].to_crs(epsg=4326)\n",
    "\n",
    "# Update the CRS of the GeoDataFrame\n",
    "data.crs = from_epsg(4326)\n",
    "ad.crs = from_epsg(4326)\n",
    "\n",
    "# Make a selection (only data above 0 and below 1000)\n",
    "data = data.ix[(data['ASUKKAITA'] > 0) & (data['ASUKKAITA'] <= 1000)]\n",
    "\n",
    "# Create a Geo-id which is needed by the Folium (it needs to have a unique identifier for each row)\n",
    "data['geoid'] = data.index.astype(str)\n",
    "ad['geoid'] = ad.index.astype(str)\n",
    "\n",
    "# Select data\n",
    "data = data[['geoid', 'ASUKKAITA', 'geometry']]\n",
    "\n",
    "# Save the file as geojson\n",
    "jsontxt = data.to_json()"
   ]
  },
  {
   "cell_type": "code",
   "execution_count": null,
   "metadata": {},
   "outputs": [],
   "source": [
    "# Create a Clustered map where points are clustered\n",
    "marker_cluster = folium.MarkerCluster().add_to(map_osm)\n",
    "\n",
    "\n",
    "# Create Choropleth map where the colors are coming from a column \"ASUKKAITA\".\n",
    "# Notice: 'geoid' column that we created earlier needs to be assigned always as the first column\n",
    "# with threshold_scale we can adjust the class intervals for the values\n",
    "map_osm.choropleth(geo_str=jsontxt, data=data, columns=['geoid', 'ASUKKAITA'], key_on=\"feature.id\",\n",
    "                   fill_color='YlOrRd', fill_opacity=0.9, line_opacity=0.2, line_color='white', line_weight=0,\n",
    "                   threshold_scale=[100, 250, 500, 1000, 2000],\n",
    "                   legend_name='Population in Helsinki', highlight=False, smooth_factor=1.0)\n",
    "\n",
    "\n",
    "# Create Address points on top of the map\n",
    "for idx, row in ad.iterrows():\n",
    "    # Get lat and lon of points\n",
    "    lon = row['geometry'].x\n",
    "    lat = row['geometry'].y\n",
    "\n",
    "    # Get address information\n",
    "    address = row['address']\n",
    "    # Add marker to the map\n",
    "    folium.RegularPolygonMarker(location=[lat, lon], popup=address, fill_color='#2b8cbe', number_of_sides=6, radius=8).add_to(marker_cluster)\n",
    "\n",
    "# Save the output\n",
    "outfp = r'/Users/satwi/geopandas/data/pop15.html'\n",
    "map_osm.save(outfp)"
   ]
  },
  {
   "cell_type": "code",
   "execution_count": null,
   "metadata": {},
   "outputs": [],
   "source": [
    "import geopandas as gpd\n",
    "import matplotlib.pyplot as plt\n",
    "\n",
    "# Filepaths\n",
    "grid_fp = r\"/Users/satwi/geopandas/data/TravelTimes_to_5975375_RailwayStation.shp\"\n",
    "roads_fp = r\"/Users/satwi/geopandas/data/roads.shp\"\n",
    "metro_fp = r\"/Users/satwi/geopandas/data/metro.shp\"\n",
    "\n",
    "# Read files\n",
    "grid = gpd.read_file(grid_fp)\n",
    "roads = gpd.read_file(roads_fp)\n",
    "metro = gpd.read_file(metro_fp)"
   ]
  },
  {
   "cell_type": "code",
   "execution_count": null,
   "metadata": {},
   "outputs": [],
   "source": [
    "# Get the CRS of the grid\n",
    "gridCRS = grid.crs\n",
    "\n",
    "# Reproject geometries using the crs of travel time grid\n",
    "roads['geometry'] = roads['geometry'].to_crs(crs=gridCRS)\n",
    "metro['geometry'] = metro['geometry'].to_crs(crs=gridCRS)"
   ]
  },
  {
   "cell_type": "code",
   "execution_count": null,
   "metadata": {},
   "outputs": [],
   "source": [
    "# Visualize the travel times into 9 classes using \"Quantiles\" classification scheme\n",
    "# Add also a little bit of transparency with `alpha` parameter\n",
    "# (ranges from 0 to 1 where 0 is fully transparent and 1 has no transparency)\n",
    "my_map = grid.plot(column=\"car_r_t\", linewidth=0.03, cmap=\"Reds\", scheme=\"quantiles\", k=9, alpha=0.9)\n",
    "\n",
    "# Add roads on top of the grid\n",
    "# (use ax parameter to define the map on top of which the second items are plotted)\n",
    "roads.plot(ax=my_map, color=\"grey\", linewidth=1.5)\n",
    "\n",
    "# Add metro on top of the previous map\n",
    "metro.plot(ax=my_map, color=\"red\", linewidth=2.5)\n",
    "\n",
    "# Remove the empty white-space around the axes\n",
    "plt.tight_layout()\n",
    "\n",
    "# Save the figure as png file with resolution of 300 dpi\n",
    "outfp = r\"/data/static_map.png\"\n",
    "plt.savefig(outfp, dpi=300)"
   ]
  }
 ],
 "metadata": {
  "kernelspec": {
   "display_name": "Python 3",
   "language": "python",
   "name": "python3"
  },
  "language_info": {
   "codemirror_mode": {
    "name": "ipython",
    "version": 3
   },
   "file_extension": ".py",
   "mimetype": "text/x-python",
   "name": "python",
   "nbconvert_exporter": "python",
   "pygments_lexer": "ipython3",
   "version": "3.6.10"
  }
 },
 "nbformat": 4,
 "nbformat_minor": 4
}
