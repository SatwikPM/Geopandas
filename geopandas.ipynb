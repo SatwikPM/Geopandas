{
 "cells": [
  {
   "cell_type": "code",
   "execution_count": null,
   "metadata": {},
   "outputs": [],
   "source": [
    "# Load all importance packages\n",
    "import geopandas\n",
    "import numpy as np\n",
    "import pandas as pd\n",
    "from shapely.geometry import Point\n",
    "\n",
    "import missingno as msn\n",
    "\n",
    "import seaborn as sns\n",
    "import matplotlib.pyplot as plt\n",
    "\n",
    "#% matplotlib inline"
   ]
  },
  {
   "cell_type": "code",
   "execution_count": null,
   "metadata": {},
   "outputs": [],
   "source": [
    "# Getting to know GEOJSON file:\n",
    "country = geopandas.read_file(\"https://s3.amazonaws.com/assets.datacamp.com/blog_assets/Introduction+to+Geospatial+Data+in+Python/gz_2010_us_040_00_5m.json\")\n",
    "country.head"
   ]
  },
  {
   "cell_type": "code",
   "execution_count": null,
   "metadata": {},
   "outputs": [],
   "source": [
    "type(country)"
   ]
  },
  {
   "cell_type": "code",
   "execution_count": null,
   "metadata": {},
   "outputs": [],
   "source": [
    "geopandas.geodataframe.GeoDataFrame"
   ]
  },
  {
   "cell_type": "code",
   "execution_count": null,
   "metadata": {},
   "outputs": [],
   "source": [
    "type(country.geometry)"
   ]
  },
  {
   "cell_type": "raw",
   "metadata": {},
   "source": [
    "Each value in the GeoSeries is a Shapely Object. It can be:\n",
    "Point\n",
    "Line\n",
    "Polygon\n",
    "MultiPolygon"
   ]
  },
  {
   "cell_type": "code",
   "execution_count": null,
   "metadata": {},
   "outputs": [],
   "source": [
    "type(country.geometry[0])"
   ]
  },
  {
   "cell_type": "code",
   "execution_count": null,
   "metadata": {},
   "outputs": [],
   "source": [
    "country.plot()"
   ]
  },
  {
   "cell_type": "code",
   "execution_count": null,
   "metadata": {},
   "outputs": [],
   "source": [
    "# Exclude Alaska and Hawaii for now\n",
    "country[country['NAME'].isin(['Alaska','Hawaii']) == False].plot(figsize=(30,20), color='#3B3C6E');"
   ]
  },
  {
   "cell_type": "code",
   "execution_count": null,
   "metadata": {},
   "outputs": [],
   "source": [
    "florence = pd.read_csv('florence.csv')\n",
    "florence.head()"
   ]
  },
  {
   "cell_type": "raw",
   "metadata": {},
   "source": [
    "Exploratory Data Analysis\n",
    "This is always the first thing you do when loading any dataset:\n",
    "Checking the information, data type\n",
    "Any missing value\n",
    "Statistical data"
   ]
  },
  {
   "cell_type": "code",
   "execution_count": null,
   "metadata": {},
   "outputs": [],
   "source": [
    "florence.info()"
   ]
  },
  {
   "cell_type": "code",
   "execution_count": null,
   "metadata": {},
   "outputs": [],
   "source": [
    "# Notice you can always adjust the color of the visualization\n",
    "#Checking missing values using the missingno package. This is a useful package using visualization to show missing data. \n",
    "msn.bar(florence, color='darkolivegreen');"
   ]
  },
  {
   "cell_type": "code",
   "execution_count": null,
   "metadata": {},
   "outputs": [],
   "source": [
    "# Statistical information\n",
    "florence.describe()"
   ]
  },
  {
   "cell_type": "code",
   "execution_count": null,
   "metadata": {},
   "outputs": [],
   "source": [
    "# dropping all unused features:\n",
    "florence = florence.drop(['AdvisoryNumber', 'Forecaster', 'Received'], axis=1)\n",
    "florence.head()"
   ]
  },
  {
   "cell_type": "code",
   "execution_count": null,
   "metadata": {},
   "outputs": [],
   "source": [
    "# Add \"-\" in front of the number to correctly plot the data:\n",
    "florence['Long'] = 0 - florence['Long']\n",
    "florence.head()"
   ]
  },
  {
   "cell_type": "code",
   "execution_count": null,
   "metadata": {},
   "outputs": [],
   "source": [
    "# Combining Lattitude and Longitude to create hurricane coordinates:\n",
    "florence['coordinates'] = florence[['Long', 'Lat']].values.tolist()\n",
    "florence.head()"
   ]
  },
  {
   "cell_type": "code",
   "execution_count": null,
   "metadata": {},
   "outputs": [],
   "source": [
    "# Change the coordinates to a geoPoint\n",
    "florence['coordinates'] = florence['coordinates'].apply(Point)\n",
    "florence.head()"
   ]
  },
  {
   "cell_type": "code",
   "execution_count": null,
   "metadata": {},
   "outputs": [],
   "source": [
    "type(florence)"
   ]
  },
  {
   "cell_type": "code",
   "execution_count": null,
   "metadata": {},
   "outputs": [],
   "source": [
    "type(florence['coordinates'])"
   ]
  },
  {
   "cell_type": "code",
   "execution_count": null,
   "metadata": {},
   "outputs": [],
   "source": [
    "# Convert the count df to geodf\n",
    "florence = geopandas.GeoDataFrame(florence, geometry='coordinates')\n",
    "florence.head()"
   ]
  },
  {
   "cell_type": "code",
   "execution_count": null,
   "metadata": {},
   "outputs": [],
   "source": [
    "type(florence)"
   ]
  },
  {
   "cell_type": "code",
   "execution_count": null,
   "metadata": {},
   "outputs": [],
   "source": [
    "type(florence['coordinates'])"
   ]
  },
  {
   "cell_type": "code",
   "execution_count": null,
   "metadata": {},
   "outputs": [],
   "source": [
    "# Filtering from before the hurricane was named.\n",
    "florence[florence['Name']=='Six']"
   ]
  },
  {
   "cell_type": "code",
   "execution_count": null,
   "metadata": {},
   "outputs": [],
   "source": [
    "# Groupping by name to see how many names it has in the data set:\n",
    "florence.groupby('Name').Type.count()"
   ]
  },
  {
   "cell_type": "code",
   "execution_count": null,
   "metadata": {},
   "outputs": [],
   "source": [
    "print(\"Mean wind speed of Hurricane Florence is {} mph and it can go up to {} mph maximum\".format(round(florence.Wind.mean(),4),\n",
    "                                                                                         florence.Wind.max()))"
   ]
  },
  {
   "cell_type": "code",
   "execution_count": null,
   "metadata": {},
   "outputs": [],
   "source": [
    "#Visualization\n",
    "florence.plot(figsize=(20,10));"
   ]
  },
  {
   "cell_type": "code",
   "execution_count": null,
   "metadata": {},
   "outputs": [],
   "source": [
    "# Plotting to see the hurricane overlay the US map:\n",
    "fig, ax = plt.subplots(1, figsize=(20,20))\n",
    "base = country[country['NAME'].isin(['Alaska','Hawaii']) == False].plot(ax=ax, color='#3B3C6E')\n",
    "\n",
    "# plotting the hurricane position on top with red color to stand out:\n",
    "florence.plot(ax=base, color='darkred', marker=\"*\", markersize=10);"
   ]
  },
  {
   "cell_type": "raw",
   "metadata": {},
   "source": [
    "Looks great! Now, we will finish it with more details such as:\n",
    "Adding title\n",
    "Color the hurricane position based on the wind speed to see how strong the hurricane was when it hit each city.\n",
    "Remove axis\n",
    "Add legend\n",
    "Saving the result to an image file to use later"
   ]
  },
  {
   "cell_type": "code",
   "execution_count": null,
   "metadata": {},
   "outputs": [],
   "source": [
    "fig, ax = plt.subplots(1, figsize=(20,20))\n",
    "base = country[country['NAME'].isin(['Alaska','Hawaii']) == False].plot(ax=ax, color='#3B3C6E')\n",
    "florence.plot(ax=base, column='Wind', marker=\"<\", markersize=10, cmap='cool', label=\"Wind speed(mph)\")\n",
    "_ = ax.axis('off')\n",
    "plt.legend()\n",
    "ax.set_title(\"Hurricane Florence in US Map\", fontsize=25)\n",
    "plt.savefig('Hurricane_footage.png',bbox_inches='tight');"
   ]
  },
  {
   "cell_type": "code",
   "execution_count": null,
   "metadata": {},
   "outputs": [],
   "source": [
    "import heatmap\n",
    "import random\n",
    "\n",
    "pts = []\n",
    "for x in range(400):\n",
    "    pts.append((random.random(), random.random() ))\n",
    "\n",
    "print (\"Processing %d points...\" % len(pts))\n",
    "\n",
    "hm = heatmap.Heatmap()\n",
    "img = hm.heatmap(pts)\n",
    "img.save(\"classic.png\")"
   ]
  },
  {
   "cell_type": "code",
   "execution_count": null,
   "metadata": {},
   "outputs": [],
   "source": [
    "from mpl_toolkits.basemap import Basemap\n",
    "import numpy as np\n",
    "import matplotlib.pyplot as plt\n",
    "m = Basemap(width=15.e6,height=15.e6,\\\n",
    "            projection='gnom',lat_0=60.,lon_0=-30.)\n",
    "m.drawmapboundary(fill_color='aqua')\n",
    "m.drawcoastlines()\n",
    "m.fillcontinents(color='coral',lake_color='aqua')\n",
    "m.drawparallels(np.arange(10,90,20))\n",
    "m.drawmeridians(np.arange(-180,180,30))\n",
    "plt.title('Gnomonic Projection')\n",
    "plt.show()"
   ]
  },
  {
   "cell_type": "code",
   "execution_count": null,
   "metadata": {},
   "outputs": [],
   "source": []
  }
 ],
 "metadata": {
  "kernelspec": {
   "display_name": "Python 3",
   "language": "python",
   "name": "python3"
  },
  "language_info": {
   "codemirror_mode": {
    "name": "ipython",
    "version": 3
   },
   "file_extension": ".py",
   "mimetype": "text/x-python",
   "name": "python",
   "nbconvert_exporter": "python",
   "pygments_lexer": "ipython3",
   "version": "3.6.10"
  }
 },
 "nbformat": 4,
 "nbformat_minor": 4
}
